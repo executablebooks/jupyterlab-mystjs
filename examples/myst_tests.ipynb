{
 "cells": [
  {
   "cell_type": "markdown",
   "id": "7fd00f2c-690c-4a9d-af67-c9fde0bfc86d",
   "metadata": {
    "tags": []
   },
   "source": [
    "---\n",
    "title: Working with MyST Markdown\n",
    "subtitle: In JupyterLab\n",
    "doi: 10.14288/1.0362383\n",
    "license: CC-BY-4.0\n",
    "github: https://github.com/executablebooks/mystjs\n",
    "subject: Tutorial\n",
    "venue: Jupyter Journal\n",
    "biblio:\n",
    "  volume: '1'\n",
    "  issue: '1'\n",
    "authors:\n",
    "  - name: Rowan Cockett\n",
    "    email: rowan@curvenote.com\n",
    "    corresponding: true\n",
    "    orcid: 0000-0002-7859-8394\n",
    "    affiliations:\n",
    "      - Curvenote\n",
    "      - ExecutableBooks\n",
    "  - name: Steve Purves\n",
    "    affiliations:\n",
    "      - Curvenote\n",
    "      - ExecutableBooks\n",
    "math:\n",
    "  '\\dobs': '\\mathbf{d}_\\text{obs}'\n",
    "  '\\dpred': '\\mathbf{d}_\\text{pred}\\left( #1 \\right)'\n",
    "  '\\mref': '\\mathbf{m}_\\text{ref}'\n",
    "---"
   ]
  },
  {
   "cell_type": "markdown",
   "id": "124203ea-d9d8-4c2b-91b7-eca7cd68ee3f",
   "metadata": {},
   "source": [
    ":::{note}\n",
    ":class: dropdown\n",
    "This is MyST in a notebook rendered by `jupyterlab-myst`!!\n",
    ":::"
   ]
  },
  {
   "cell_type": "markdown",
   "id": "aed570c6",
   "metadata": {},
   "source": [
    "```{figure} https://source.unsplash.com/random/800x200?sunset\n",
    ":name: hello\n",
    ":width: 40%\n",
    "A nice sunset 🌅!!\n",
    "```"
   ]
  },
  {
   "cell_type": "markdown",
   "id": "d754aa61",
   "metadata": {},
   "source": [
    "```{figure} https://source.unsplash.com/random/800x200?beach,ocean\n",
    ":name: fig4\n",
    ":width: 40%\n",
    "Relaxing at the beach 🏖\n",
    "```"
   ]
  },
  {
   "cell_type": "markdown",
   "id": "b7e16780",
   "metadata": {},
   "source": [
    "This chart shows an example of `using` an interval **selection**[^1] to filter the contents of an attached histogram, allowing the user to see the proportion of items in each category within the selection. See more in the [Altair Documentation](https://altair-viz.github.io/gallery/selection_histogram.html)\n",
    "\n",
    "[^1]: Footnote text\n",
    "\n",
    "```{figure} https://source.unsplash.com/random/800x300?beach,ocean\n",
    ":name: fig3\n",
    ":width: 80%\n",
    "Relaxing at the beach\n",
    "```\n",
    "\n",
    "```{math}\n",
    ":label: ok\n",
    "Ax=b\n",
    "```\n",
    "\n",
    "[hello](https://en.wikipedia.org/wiki/OK) or [code](https://github.com/executablebooks/mystjs/blob/main/packages/mystjs/src/index.ts#L3)\n",
    "\n",
    "[](#ok) [](#hello)  [](#cross)\n",
    "\n",
    "```{warning}\n",
    ":class: dropdown\n",
    "ok\n",
    "```"
   ]
  },
  {
   "cell_type": "markdown",
   "id": "6b039ec2",
   "metadata": {},
   "source": [
    "The residual is the predicted data for the model, $\\dpred{m}$, minus the observed data, $\\dobs$. You can also calculate the predicted data for the reference model $\\dpred{\\mref}$."
   ]
  },
  {
   "cell_type": "markdown",
   "id": "744002eb",
   "metadata": {},
   "source": [
    "For example, this [](#cross):\n",
    "\n",
    "```{math}\n",
    ":label: equation\n",
    "\\sqrt{\\frac{5}{2}}\n",
    "```"
   ]
  },
  {
   "cell_type": "markdown",
   "id": "fc4bf610",
   "metadata": {},
   "source": [
    "For example, this equation:\n",
    "\n",
    "```{math}\n",
    ":label: cross\n",
    "\\mathbf{u} \\times \\mathbf{v}=\\left|\\begin{array}{ll}u_{2} & u_{3} \\\\ v_{2} & v_{3}\\end{array}\\right| \\mathbf{i}+\\left|\\begin{array}{ll}u_{3} & u_{1} \\\\ v_{3} & v_{1}\\end{array}\\right| \\mathbf{j}+\\left|\\begin{array}{ll}u_{1} & u_{2} \\\\ v_{1} & v_{2}\\end{array}\\right| \\mathbf{k}\n",
    "```"
   ]
  },
  {
   "cell_type": "markdown",
   "id": "656a66e1",
   "metadata": {},
   "source": [
    "## Tabs\n",
    "\n",
    "````{tab-set}\n",
    "```{tab-item} Tab 1\n",
    ":sync: tab1\n",
    "Tab one can sync (see below)!\n",
    "```\n",
    "```{tab-item} Tab 2\n",
    ":sync: tab2\n",
    "Tab two\n",
    "```\n",
    "````\n",
    "\n",
    "These tabs are set to sync:\n",
    "\n",
    "````{tab-set}\n",
    "```{tab-item} Tab 1 - Sync!\n",
    ":sync: tab1\n",
    "Tab one can sync!\n",
    "```\n",
    "```{tab-item} Tab 2\n",
    ":sync: tab2\n",
    "Tab two\n",
    "```\n",
    "````\n",
    "\n",
    "## Grids\n",
    "\n",
    "::::{grid} 1 1 2 3\n",
    "\n",
    ":::{grid-item-card}\n",
    "Text content ✏️\n",
    "^^^\n",
    "Structure books with text files and Jupyter Notebooks with minimal configuration.\n",
    ":::\n",
    "\n",
    ":::{grid-item-card}\n",
    "MyST Markdown ✨\n",
    "^^^\n",
    "Write MyST Markdown to create enriched documents with publication-quality features.\n",
    ":::\n",
    "\n",
    ":::{grid-item-card}\n",
    "Executable content 🔁\n",
    "^^^\n",
    "Execute notebook cells, store results, and insert outputs across pages.\n",
    ":::\n",
    "::::\n",
    "\n",
    "\n",
    "## Cards\n",
    "\n",
    "\n",
    ":::{card}\n",
    "MyST Markdown 🚀\n",
    "^^^\n",
    "Write content in JupyterLab!\n",
    ":::\n"
   ]
  }
 ],
 "metadata": {
  "kernelspec": {
   "display_name": "Python 3.9.10 64-bit",
   "language": "python",
   "name": "python3"
  },
  "language_info": {
   "codemirror_mode": {
    "name": "ipython",
    "version": 3
   },
   "file_extension": ".py",
   "mimetype": "text/x-python",
   "name": "python",
   "nbconvert_exporter": "python",
   "pygments_lexer": "ipython3",
   "version": "3.9.10"
  },
  "vscode": {
   "interpreter": {
    "hash": "a665b5d41d17b532ea9890333293a1b812fa0b73c9c25c950b3cedf1bebd0438"
   }
  },
  "widgets": {
   "application/vnd.jupyter.widget-state+json": {
    "state": {},
    "version_major": 2,
    "version_minor": 0
   }
  }
 },
 "nbformat": 4,
 "nbformat_minor": 5
}
